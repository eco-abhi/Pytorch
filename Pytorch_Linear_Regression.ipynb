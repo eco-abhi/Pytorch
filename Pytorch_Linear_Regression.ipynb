{
  "nbformat": 4,
  "nbformat_minor": 0,
  "metadata": {
    "colab": {
      "provenance": [],
      "authorship_tag": "ABX9TyOWVSWFOmlx6jV8bluAtY/w",
      "include_colab_link": true
    },
    "kernelspec": {
      "name": "python3",
      "display_name": "Python 3"
    },
    "language_info": {
      "name": "python"
    }
  },
  "cells": [
    {
      "cell_type": "markdown",
      "metadata": {
        "id": "view-in-github",
        "colab_type": "text"
      },
      "source": [
        "<a href=\"https://colab.research.google.com/github/eco-abhi/Pytorch/blob/main/Pytorch_Linear_Regression.ipynb\" target=\"_parent\"><img src=\"https://colab.research.google.com/assets/colab-badge.svg\" alt=\"Open In Colab\"/></a>"
      ]
    },
    {
      "cell_type": "code",
      "execution_count": 26,
      "metadata": {
        "id": "alVMfknYuxDC"
      },
      "outputs": [],
      "source": [
        "import torch\n",
        "import torch.nn as nn\n",
        "import numpy as np\n",
        "import matplotlib.pyplot as plt"
      ]
    },
    {
      "cell_type": "code",
      "source": [
        "# Number of data points\n",
        "N = 20\n",
        "\n",
        "# Random data on the x-axis in (-5, +5)\n",
        "X = np.random.random(N) * 10 - 5\n",
        "\n",
        "# A line plus some noise\n",
        "Y = X * 0.5 - 1 + np.random.randn(N)\n"
      ],
      "metadata": {
        "id": "mjFUquHeu_Iu"
      },
      "execution_count": 27,
      "outputs": []
    },
    {
      "cell_type": "code",
      "source": [
        "plt.scatter(X, Y)\n",
        "plt.show()"
      ],
      "metadata": {
        "colab": {
          "base_uri": "https://localhost:8080/",
          "height": 430
        },
        "id": "j8KosCJivgvH",
        "outputId": "b8bec727-9e82-4b97-9123-0a6c098e31d1"
      },
      "execution_count": 28,
      "outputs": [
        {
          "output_type": "display_data",
          "data": {
            "text/plain": [
              "<Figure size 640x480 with 1 Axes>"
            ],
            "image/png": "[encoded data removed]"
          },
          "metadata": {}
        }
      ]
    },
    {
      "cell_type": "code",
      "source": [
        "# Create the Linear Regression Model\n",
        "model = nn.Linear(1, 1)\n",
        "\n",
        "# Define the loss function and optimizer\n",
        "criterion = nn.MSELoss()\n",
        "optimizer = torch.optim.SGD(model.parameters(), lr=0.01)\n",
        "\n",
        "# Reshaping the data\n",
        "X = X.reshape(N, 1)\n",
        "Y = Y.reshape(N, 1)\n",
        "\n",
        "# Pytorch uses float32 by default\n",
        "# Numpy creates float64 by default\n",
        "inputs = torch.from_numpy(X.astype(np.float32))\n",
        "targets = torch.from_numpy(Y.astype(np.float32))"
      ],
      "metadata": {
        "id": "8NE4bKWuvlUU"
      },
      "execution_count": 29,
      "outputs": []
    },
    {
      "cell_type": "code",
      "source": [
        "type(inputs)"
      ],
      "metadata": {
        "colab": {
          "base_uri": "https://localhost:8080/"
        },
        "id": "WfIK8giQwSKg",
        "outputId": "e06f4908-5bcf-4cad-9f8d-cc8ad189d715"
      },
      "execution_count": 30,
      "outputs": [
        {
          "output_type": "execute_result",
          "data": {
            "text/plain": [
              "torch.Tensor"
            ]
          },
          "metadata": {},
          "execution_count": 30
        }
      ]
    },
    {
      "cell_type": "code",
      "source": [
        "# Train the model\n",
        "n_epochs = 90\n",
        "losses = []\n",
        "\n",
        "# Training loop\n",
        "for epoch in range(n_epochs):\n",
        "\n",
        "    # Clear the gradients\n",
        "    optimizer.zero_grad()\n",
        "\n",
        "    # Forward pass\n",
        "    outputs = model(inputs)\n",
        "    loss = criterion(outputs, targets)  # MSE loss\n",
        "\n",
        "    # Store the loss for plotting\n",
        "    losses.append(loss.item())\n",
        "\n",
        "    # Backward pass and optimization\n",
        "    loss.backward()\n",
        "    optimizer.step()\n",
        "\n",
        "    # Print the loss every 10 epochs\n",
        "    if (epoch + 1) % 2 == 0:\n",
        "        print(f\"Epoch [{epoch + 1}/{n_epochs}], Loss: {loss.item():.4f}\")\n",
        "\n",
        "\n"
      ],
      "metadata": {
        "colab": {
          "base_uri": "https://localhost:8080/"
        },
        "id": "sfgPjPXHwuWO",
        "outputId": "45c80379-77eb-44ba-a995-b7f1c687f247"
      },
      "execution_count": 31,
      "outputs": [
        {
          "output_type": "stream",
          "name": "stdout",
          "text": [
            "Epoch [2/90], Loss: 11.1039\n",
            "Epoch [4/90], Loss: 7.1040\n",
            "Epoch [6/90], Loss: 5.1102\n",
            "Epoch [8/90], Loss: 4.0689\n",
            "Epoch [10/90], Loss: 3.4838\n",
            "Epoch [12/90], Loss: 3.1207\n",
            "Epoch [14/90], Loss: 2.8688\n",
            "Epoch [16/90], Loss: 2.6756\n",
            "Epoch [18/90], Loss: 2.5156\n",
            "Epoch [20/90], Loss: 2.3767\n",
            "Epoch [22/90], Loss: 2.2526\n",
            "Epoch [24/90], Loss: 2.1400\n",
            "Epoch [26/90], Loss: 2.0370\n",
            "Epoch [28/90], Loss: 1.9424\n",
            "Epoch [30/90], Loss: 1.8553\n",
            "Epoch [32/90], Loss: 1.7750\n",
            "Epoch [34/90], Loss: 1.7009\n",
            "Epoch [36/90], Loss: 1.6326\n",
            "Epoch [38/90], Loss: 1.5696\n",
            "Epoch [40/90], Loss: 1.5114\n",
            "Epoch [42/90], Loss: 1.4577\n",
            "Epoch [44/90], Loss: 1.4082\n",
            "Epoch [46/90], Loss: 1.3625\n",
            "Epoch [48/90], Loss: 1.3203\n",
            "Epoch [50/90], Loss: 1.2814\n",
            "Epoch [52/90], Loss: 1.2455\n",
            "Epoch [54/90], Loss: 1.2124\n",
            "Epoch [56/90], Loss: 1.1818\n",
            "Epoch [58/90], Loss: 1.1536\n",
            "Epoch [60/90], Loss: 1.1275\n",
            "Epoch [62/90], Loss: 1.1035\n",
            "Epoch [64/90], Loss: 1.0813\n",
            "Epoch [66/90], Loss: 1.0609\n",
            "Epoch [68/90], Loss: 1.0420\n",
            "Epoch [70/90], Loss: 1.0246\n",
            "Epoch [72/90], Loss: 1.0085\n",
            "Epoch [74/90], Loss: 0.9937\n",
            "Epoch [76/90], Loss: 0.9800\n",
            "Epoch [78/90], Loss: 0.9673\n",
            "Epoch [80/90], Loss: 0.9557\n",
            "Epoch [82/90], Loss: 0.9449\n",
            "Epoch [84/90], Loss: 0.9350\n",
            "Epoch [86/90], Loss: 0.9258\n",
            "Epoch [88/90], Loss: 0.9174\n",
            "Epoch [90/90], Loss: 0.9096\n"
          ]
        }
      ]
    },
    {
      "cell_type": "code",
      "source": [
        "plt.plot(losses)"
      ],
      "metadata": {
        "colab": {
          "base_uri": "https://localhost:8080/",
          "height": 448
        },
        "id": "_HH9-Cqaxk6t",
        "outputId": "61afebe2-dc10-4c8f-cf24-304ab8400c28"
      },
      "execution_count": 32,
      "outputs": [
        {
          "output_type": "execute_result",
          "data": {
            "text/plain": [
              "[<matplotlib.lines.Line2D at 0x7c078e205360>]"
            ]
          },
          "metadata": {},
          "execution_count": 32
        },
        {
          "output_type": "display_data",
          "data": {
            "text/plain": [
              "<Figure size 640x480 with 1 Axes>"
            ],
            "image/png": "[encoded data removed]"
          },
          "metadata": {}
        }
      ]
    },
    {
      "cell_type": "code",
      "source": [
        "# Plot the graph\n",
        "predicted = model(inputs).detach().numpy()\n",
        "plt.scatter(X, Y, label=\"Original data\")\n",
        "plt.plot(X, predicted, color='red', label=\"Fitted line\")\n",
        "plt.legend()\n",
        "plt.show()"
      ],
      "metadata": {
        "colab": {
          "base_uri": "https://localhost:8080/",
          "height": 430
        },
        "id": "RpzvV4NSxp4q",
        "outputId": "0bfc3ee0-55cf-4c92-aca3-4c794cc655d8"
      },
      "execution_count": 33,
      "outputs": [
        {
          "output_type": "display_data",
          "data": {
            "text/plain": [
              "<Figure size 640x480 with 1 Axes>"
            ],
            "image/png": "[encoded data removed]"
          },
          "metadata": {}
        }
      ]
    },
    {
      "cell_type": "code",
      "source": [
        "# Another way\n",
        "\n",
        "with torch.no_grad():\n",
        "    out = model(inputs).numpy()\n",
        "out"
      ],
      "metadata": {
        "colab": {
          "base_uri": "https://localhost:8080/"
        },
        "id": "vtqCxKnax-Fd",
        "outputId": "6299c9ad-c7bb-4f0a-c378-5de8c6ad6a2a"
      },
      "execution_count": 34,
      "outputs": [
        {
          "output_type": "execute_result",
          "data": {
            "text/plain": [
              "array([[ 2.1381958 ],\n",
              "       [-1.4291861 ],\n",
              "       [-2.706705  ],\n",
              "       [-3.260784  ],\n",
              "       [-1.2335196 ],\n",
              "       [ 0.37217098],\n",
              "       [-2.1656861 ],\n",
              "       [ 1.2680368 ],\n",
              "       [ 0.05801278],\n",
              "       [ 1.9913869 ],\n",
              "       [-0.23922077],\n",
              "       [ 0.33782315],\n",
              "       [ 0.16488463],\n",
              "       [-2.0041497 ],\n",
              "       [-2.173199  ],\n",
              "       [ 1.6064951 ],\n",
              "       [-0.5521355 ],\n",
              "       [-2.912917  ],\n",
              "       [-0.23256007],\n",
              "       [-3.327267  ]], dtype=float32)"
            ]
          },
          "metadata": {},
          "execution_count": 34
        }
      ]
    },
    {
      "cell_type": "code",
      "source": [
        "# True values of w and b are\n",
        "\n",
        "w = model.weight.data.numpy()\n",
        "b = model.bias.data.numpy()\n",
        "print(w, b)"
      ],
      "metadata": {
        "colab": {
          "base_uri": "https://localhost:8080/"
        },
        "id": "U2H2SBepy3ta",
        "outputId": "dfe7a1bc-a408-4ade-e179-ccd026ef4028"
      },
      "execution_count": 38,
      "outputs": [
        {
          "output_type": "stream",
          "name": "stdout",
          "text": [
            "[[0.58125454]] [-0.5953036]\n"
          ]
        }
      ]
    },
    {
      "cell_type": "code",
      "source": [],
      "metadata": {
        "id": "cYkov3I5zIM8"
      },
      "execution_count": 35,
      "outputs": []
    }
  ]
}